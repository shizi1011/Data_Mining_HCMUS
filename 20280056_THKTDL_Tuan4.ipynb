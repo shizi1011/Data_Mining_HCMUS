{
 "cells": [
  {
   "attachments": {},
   "cell_type": "markdown",
   "metadata": {},
   "source": [
    "# Import thư viện"
   ]
  },
  {
   "cell_type": "code",
   "execution_count": 48,
   "metadata": {},
   "outputs": [],
   "source": [
    "import numpy as np\n",
    "import pandas as pd\n",
    "from apyori import apriori"
   ]
  },
  {
   "cell_type": "code",
   "execution_count": 49,
   "metadata": {},
   "outputs": [],
   "source": [
    "from collections import namedtuple\n",
    "from itertools import combinations\n",
    "from itertools import chain"
   ]
  },
  {
   "cell_type": "markdown",
   "metadata": {},
   "source": [
    "# Đọc dữ liệu "
   ]
  },
  {
   "cell_type": "code",
   "execution_count": 50,
   "metadata": {},
   "outputs": [],
   "source": [
    "df=pd.read_csv(r\"data.csv\",header=None)"
   ]
  },
  {
   "cell_type": "code",
   "execution_count": 51,
   "metadata": {},
   "outputs": [
    {
     "data": {
      "text/plain": [
       "array([['Wine', 'Chips', 'Bread', 'Butter', 'Milk', 'Apple'],\n",
       "       ['Wine', nan, 'Bread', 'Butter', 'Milk', nan],\n",
       "       [nan, nan, 'Bread', 'Butter', 'Milk', nan],\n",
       "       [nan, 'Chips', nan, nan, nan, 'Apple'],\n",
       "       ['Wine', 'Chips', 'Bread', 'Butter', 'Milk', 'Apple'],\n",
       "       ['Wine', 'Chips', nan, nan, 'Milk', nan],\n",
       "       ['Wine', 'Chips', 'Bread', 'Butter', nan, 'Apple'],\n",
       "       ['Wine', 'Chips', nan, nan, 'Milk', nan],\n",
       "       ['Wine', nan, 'Bread', nan, nan, 'Apple'],\n",
       "       ['Wine', nan, 'Bread', 'Butter', 'Milk', nan],\n",
       "       [nan, 'Chips', 'Bread', 'Butter', nan, 'Apple'],\n",
       "       ['Wine', nan, nan, 'Butter', 'Milk', 'Apple'],\n",
       "       ['Wine', 'Chips', 'Bread', 'Butter', 'Milk', nan],\n",
       "       ['Wine', nan, 'Bread', nan, 'Milk', 'Apple'],\n",
       "       ['Wine', nan, 'Bread', 'Butter', 'Milk', 'Apple'],\n",
       "       ['Wine', 'Chips', 'Bread', 'Butter', 'Milk', 'Apple'],\n",
       "       [nan, 'Chips', 'Bread', 'Butter', 'Milk', 'Apple'],\n",
       "       [nan, 'Chips', nan, 'Butter', 'Milk', 'Apple'],\n",
       "       ['Wine', 'Chips', 'Bread', 'Butter', 'Milk', 'Apple'],\n",
       "       ['Wine', nan, 'Bread', 'Butter', 'Milk', 'Apple'],\n",
       "       ['Wine', 'Chips', 'Bread', nan, 'Milk', 'Apple'],\n",
       "       [nan, 'Chips', nan, nan, nan, nan]], dtype=object)"
      ]
     },
     "execution_count": 51,
     "metadata": {},
     "output_type": "execute_result"
    }
   ],
   "source": [
    "df.values"
   ]
  },
  {
   "cell_type": "markdown",
   "metadata": {},
   "source": [
    "# Chuyển dataframe dữ liệu thành dạng list"
   ]
  },
  {
   "cell_type": "code",
   "execution_count": 52,
   "metadata": {},
   "outputs": [],
   "source": [
    "records=[]\n",
    "for i in range(0,22):\n",
    "    records.append([str(df.values[i,j]) for j  in range(0,6)])"
   ]
  },
  {
   "cell_type": "markdown",
   "metadata": {},
   "source": [
    "# Thuật toán apriori từ thư viện apyori"
   ]
  },
  {
   "attachments": {},
   "cell_type": "markdown",
   "metadata": {},
   "source": [
    "Các công thức :\n",
    "\n",
    "$supp(X)=\\frac{\\text{count}(X)}{\\left|\\mathcal{D}\\right|}$\n",
    "\n",
    "$conf(X \\rightarrow Y) = \\frac{\\text{supp}(X,Y)}{\\text{supp}(X)}$\n",
    "\n",
    "$lift(X \\rightarrow Y) = \\frac{\\text{conf}(X \\rightarrow Y)}{\\text{supp}(Y)}$\n",
    "\n",
    "Một tập itemset chỉ có 1 giá trị support, tuy nhiên confidence và lift của các tập con cùng tạo ra tập đó có thể có các confidence và lift khác nhau\n",
    "\n",
    "Ví dụ :\n",
    "\n",
    "$\\text{conf}(\\{A,B\\} \\rightarrow C) \\neq \\text{conf}(\\{B,C\\} \\rightarrow A), \\text{lift}(\\{A,B\\} \\rightarrow C) \\neq \\text{lift}(\\{B,C\\} \\rightarrow A)$\n",
    "\n"
   ]
  },
  {
   "cell_type": "code",
   "execution_count": 53,
   "metadata": {},
   "outputs": [],
   "source": [
    "association_rules=apriori(records,min_support=0.5,min_confidence=0.7,min_lift=1.2)"
   ]
  },
  {
   "attachments": {},
   "cell_type": "markdown",
   "metadata": {},
   "source": [
    "# Vì kết quả trả về là một generator object nên convert sang list để in ra"
   ]
  },
  {
   "cell_type": "code",
   "execution_count": 54,
   "metadata": {},
   "outputs": [],
   "source": [
    "association_results=list(association_rules)"
   ]
  },
  {
   "cell_type": "markdown",
   "metadata": {},
   "source": [
    "# Kết quả thô (raw values) "
   ]
  },
  {
   "cell_type": "code",
   "execution_count": 55,
   "metadata": {},
   "outputs": [
    {
     "data": {
      "text/plain": [
       "[RelationRecord(items=frozenset({'Butter', 'Milk', 'Bread'}), support=0.5, ordered_statistics=[OrderedStatistic(items_base=frozenset({'Butter'}), items_add=frozenset({'Milk', 'Bread'}), confidence=0.7333333333333334, lift=1.241025641025641), OrderedStatistic(items_base=frozenset({'Milk', 'Bread'}), items_add=frozenset({'Butter'}), confidence=0.8461538461538461, lift=1.241025641025641)])]"
      ]
     },
     "execution_count": 55,
     "metadata": {},
     "output_type": "execute_result"
    }
   ],
   "source": [
    "association_results"
   ]
  },
  {
   "cell_type": "markdown",
   "metadata": {},
   "source": [
    "# Hàm chuyển đổi kết quả thô (raw values) sang dạng dataframe để dễ đọc (readable)"
   ]
  },
  {
   "cell_type": "code",
   "execution_count": 56,
   "metadata": {},
   "outputs": [],
   "source": [
    "# Hàm inspect gốc (trong file pdf)\n",
    "def inspect(output):\n",
    "    lhs=[tuple(result[2][0][0])[0] for result in output]\n",
    "    rhs=[tuple(result[2][0][1])[0] for result in output]\n",
    "    support=[result[1] for result in output]\n",
    "    confidence=[result[2][0][2] for result in output]\n",
    "    lift=[result[2][0][3] for result in output]\n",
    "    return list(zip(lhs,rhs,support,confidence,lift))\n"
   ]
  },
  {
   "attachments": {},
   "cell_type": "markdown",
   "metadata": {},
   "source": [
    "Kết quả dataframe của hàm inspect gốc"
   ]
  },
  {
   "cell_type": "code",
   "execution_count": 57,
   "metadata": {},
   "outputs": [
    {
     "data": {
      "text/html": [
       "<div>\n",
       "<style scoped>\n",
       "    .dataframe tbody tr th:only-of-type {\n",
       "        vertical-align: middle;\n",
       "    }\n",
       "\n",
       "    .dataframe tbody tr th {\n",
       "        vertical-align: top;\n",
       "    }\n",
       "\n",
       "    .dataframe thead th {\n",
       "        text-align: right;\n",
       "    }\n",
       "</style>\n",
       "<table border=\"1\" class=\"dataframe\">\n",
       "  <thead>\n",
       "    <tr style=\"text-align: right;\">\n",
       "      <th></th>\n",
       "      <th>Left_Hand_Side</th>\n",
       "      <th>Right_Hand_Side</th>\n",
       "      <th>Support</th>\n",
       "      <th>Confidence</th>\n",
       "      <th>Lift</th>\n",
       "    </tr>\n",
       "  </thead>\n",
       "  <tbody>\n",
       "    <tr>\n",
       "      <th>0</th>\n",
       "      <td>Butter</td>\n",
       "      <td>Milk</td>\n",
       "      <td>0.5</td>\n",
       "      <td>0.733333</td>\n",
       "      <td>1.241026</td>\n",
       "    </tr>\n",
       "  </tbody>\n",
       "</table>\n",
       "</div>"
      ],
      "text/plain": [
       "  Left_Hand_Side Right_Hand_Side  Support  Confidence      Lift\n",
       "0         Butter            Milk      0.5    0.733333  1.241026"
      ]
     },
     "execution_count": 57,
     "metadata": {},
     "output_type": "execute_result"
    }
   ],
   "source": [
    "output_DataFrame=pd.DataFrame(inspect(association_results),columns=['Left_Hand_Side','Right_Hand_Side','Support','Confidence','Lift'])\n",
    "output_DataFrame"
   ]
  },
  {
   "attachments": {},
   "cell_type": "markdown",
   "metadata": {},
   "source": [
    "Vì hàm inspect trong file pdf bị sai , in ra kết quả thiếu thông tin so với kết quả thô của hàm apriori nên em sẽ sửa lại hàm inspect để có thể in ra chính xác kết quả trả về của hàm apriori"
   ]
  },
  {
   "cell_type": "code",
   "execution_count": 58,
   "metadata": {},
   "outputs": [],
   "source": [
    "# Hàm inspect sau khi chỉnh sửa\n",
    "def edited_inspect(output):\n",
    "    lhs=[]\n",
    "    rhs=[]\n",
    "    support=[]\n",
    "    lift=[]\n",
    "    confidence=[]\n",
    "    for result in output:\n",
    "        for ordered_statistic in result.ordered_statistics:\n",
    "            support.append(result.support)\n",
    "            lhs.append(ordered_statistic.items_base)\n",
    "            rhs.append(ordered_statistic.items_add)\n",
    "            confidence.append(ordered_statistic.confidence)\n",
    "            lift.append(ordered_statistic.lift)\n",
    "    return list(zip(lhs,rhs,support,confidence,lift))\n"
   ]
  },
  {
   "cell_type": "markdown",
   "metadata": {},
   "source": [
    "Kết quả dataframe của hàm inspect sau khi chỉnh sửa "
   ]
  },
  {
   "cell_type": "code",
   "execution_count": 59,
   "metadata": {},
   "outputs": [
    {
     "data": {
      "text/html": [
       "<div>\n",
       "<style scoped>\n",
       "    .dataframe tbody tr th:only-of-type {\n",
       "        vertical-align: middle;\n",
       "    }\n",
       "\n",
       "    .dataframe tbody tr th {\n",
       "        vertical-align: top;\n",
       "    }\n",
       "\n",
       "    .dataframe thead th {\n",
       "        text-align: right;\n",
       "    }\n",
       "</style>\n",
       "<table border=\"1\" class=\"dataframe\">\n",
       "  <thead>\n",
       "    <tr style=\"text-align: right;\">\n",
       "      <th></th>\n",
       "      <th>Left_Hand_Side</th>\n",
       "      <th>Right_Hand_Side</th>\n",
       "      <th>Support</th>\n",
       "      <th>Confidence</th>\n",
       "      <th>Lift</th>\n",
       "    </tr>\n",
       "  </thead>\n",
       "  <tbody>\n",
       "    <tr>\n",
       "      <th>0</th>\n",
       "      <td>(Butter)</td>\n",
       "      <td>(Milk, Bread)</td>\n",
       "      <td>0.5</td>\n",
       "      <td>0.733333</td>\n",
       "      <td>1.241026</td>\n",
       "    </tr>\n",
       "    <tr>\n",
       "      <th>1</th>\n",
       "      <td>(Milk, Bread)</td>\n",
       "      <td>(Butter)</td>\n",
       "      <td>0.5</td>\n",
       "      <td>0.846154</td>\n",
       "      <td>1.241026</td>\n",
       "    </tr>\n",
       "  </tbody>\n",
       "</table>\n",
       "</div>"
      ],
      "text/plain": [
       "  Left_Hand_Side Right_Hand_Side  Support  Confidence      Lift\n",
       "0       (Butter)   (Milk, Bread)      0.5    0.733333  1.241026\n",
       "1  (Milk, Bread)        (Butter)      0.5    0.846154  1.241026"
      ]
     },
     "execution_count": 59,
     "metadata": {},
     "output_type": "execute_result"
    }
   ],
   "source": [
    "output_DataFrame=pd.DataFrame(edited_inspect(association_results),columns=['Left_Hand_Side','Right_Hand_Side','Support','Confidence','Lift'])\n",
    "output_DataFrame"
   ]
  },
  {
   "attachments": {},
   "cell_type": "markdown",
   "metadata": {},
   "source": [
    "Vì trường hợp min_confidence = 0.5 chỉ có một kết quả nên không cho thấy sự khác biệt của hàm inspect(hàm inspect gốc) và hàm edited_inspect(hàm inspect đã qua chỉnh sửa), nên em sẽ hạ mức min_confidence thấp xuống một chút(0,4) để so sánh kết quả giữa 2 hàm "
   ]
  },
  {
   "cell_type": "code",
   "execution_count": 60,
   "metadata": {},
   "outputs": [
    {
     "data": {
      "text/plain": [
       "[RelationRecord(items=frozenset({'Apple', 'Wine', 'Bread'}), support=0.45454545454545453, ordered_statistics=[OrderedStatistic(items_base=frozenset({'Apple', 'Wine'}), items_add=frozenset({'Bread'}), confidence=0.9090909090909091, lift=1.25)]),\n",
       " RelationRecord(items=frozenset({'Apple', 'Milk', 'Butter'}), support=0.4090909090909091, ordered_statistics=[OrderedStatistic(items_base=frozenset({'Apple', 'Milk'}), items_add=frozenset({'Butter'}), confidence=0.8181818181818182, lift=1.2000000000000002)]),\n",
       " RelationRecord(items=frozenset({'Butter', 'Milk', 'Bread'}), support=0.5, ordered_statistics=[OrderedStatistic(items_base=frozenset({'Butter'}), items_add=frozenset({'Milk', 'Bread'}), confidence=0.7333333333333334, lift=1.241025641025641), OrderedStatistic(items_base=frozenset({'Milk', 'Bread'}), items_add=frozenset({'Butter'}), confidence=0.8461538461538461, lift=1.241025641025641)]),\n",
       " RelationRecord(items=frozenset({'Butter', 'Wine', 'Bread'}), support=0.45454545454545453, ordered_statistics=[OrderedStatistic(items_base=frozenset({'Wine', 'Butter'}), items_add=frozenset({'Bread'}), confidence=0.9090909090909091, lift=1.25)]),\n",
       " RelationRecord(items=frozenset({'Butter', 'Milk', 'Wine', 'Bread'}), support=0.4090909090909091, ordered_statistics=[OrderedStatistic(items_base=frozenset({'Wine', 'Butter'}), items_add=frozenset({'Milk', 'Bread'}), confidence=0.8181818181818182, lift=1.3846153846153846), OrderedStatistic(items_base=frozenset({'Milk', 'Wine', 'Bread'}), items_add=frozenset({'Butter'}), confidence=0.8181818181818182, lift=1.2000000000000002), OrderedStatistic(items_base=frozenset({'Milk', 'Wine', 'Butter'}), items_add=frozenset({'Bread'}), confidence=0.9000000000000001, lift=1.2375)])]"
      ]
     },
     "execution_count": 60,
     "metadata": {},
     "output_type": "execute_result"
    }
   ],
   "source": [
    "association_rules=apriori(records,min_support=0.4,min_confidence=0.7,min_lift=1.2)\n",
    "association_results=list(association_rules)\n",
    "association_results"
   ]
  },
  {
   "cell_type": "code",
   "execution_count": 61,
   "metadata": {},
   "outputs": [
    {
     "data": {
      "text/html": [
       "<div>\n",
       "<style scoped>\n",
       "    .dataframe tbody tr th:only-of-type {\n",
       "        vertical-align: middle;\n",
       "    }\n",
       "\n",
       "    .dataframe tbody tr th {\n",
       "        vertical-align: top;\n",
       "    }\n",
       "\n",
       "    .dataframe thead th {\n",
       "        text-align: right;\n",
       "    }\n",
       "</style>\n",
       "<table border=\"1\" class=\"dataframe\">\n",
       "  <thead>\n",
       "    <tr style=\"text-align: right;\">\n",
       "      <th></th>\n",
       "      <th>Left_Hand_Side</th>\n",
       "      <th>Right_Hand_Side</th>\n",
       "      <th>Support</th>\n",
       "      <th>Confidence</th>\n",
       "      <th>Lift</th>\n",
       "    </tr>\n",
       "  </thead>\n",
       "  <tbody>\n",
       "    <tr>\n",
       "      <th>0</th>\n",
       "      <td>Apple</td>\n",
       "      <td>Bread</td>\n",
       "      <td>0.454545</td>\n",
       "      <td>0.909091</td>\n",
       "      <td>1.250000</td>\n",
       "    </tr>\n",
       "    <tr>\n",
       "      <th>1</th>\n",
       "      <td>Apple</td>\n",
       "      <td>Butter</td>\n",
       "      <td>0.409091</td>\n",
       "      <td>0.818182</td>\n",
       "      <td>1.200000</td>\n",
       "    </tr>\n",
       "    <tr>\n",
       "      <th>2</th>\n",
       "      <td>Butter</td>\n",
       "      <td>Milk</td>\n",
       "      <td>0.500000</td>\n",
       "      <td>0.733333</td>\n",
       "      <td>1.241026</td>\n",
       "    </tr>\n",
       "    <tr>\n",
       "      <th>3</th>\n",
       "      <td>Wine</td>\n",
       "      <td>Bread</td>\n",
       "      <td>0.454545</td>\n",
       "      <td>0.909091</td>\n",
       "      <td>1.250000</td>\n",
       "    </tr>\n",
       "    <tr>\n",
       "      <th>4</th>\n",
       "      <td>Wine</td>\n",
       "      <td>Milk</td>\n",
       "      <td>0.409091</td>\n",
       "      <td>0.818182</td>\n",
       "      <td>1.384615</td>\n",
       "    </tr>\n",
       "  </tbody>\n",
       "</table>\n",
       "</div>"
      ],
      "text/plain": [
       "  Left_Hand_Side Right_Hand_Side   Support  Confidence      Lift\n",
       "0          Apple           Bread  0.454545    0.909091  1.250000\n",
       "1          Apple          Butter  0.409091    0.818182  1.200000\n",
       "2         Butter            Milk  0.500000    0.733333  1.241026\n",
       "3           Wine           Bread  0.454545    0.909091  1.250000\n",
       "4           Wine            Milk  0.409091    0.818182  1.384615"
      ]
     },
     "execution_count": 61,
     "metadata": {},
     "output_type": "execute_result"
    }
   ],
   "source": [
    "output_DataFrame=pd.DataFrame(inspect(association_results),columns=['Left_Hand_Side','Right_Hand_Side','Support','Confidence','Lift'])\n",
    "output_DataFrame"
   ]
  },
  {
   "cell_type": "code",
   "execution_count": 62,
   "metadata": {},
   "outputs": [
    {
     "data": {
      "text/html": [
       "<div>\n",
       "<style scoped>\n",
       "    .dataframe tbody tr th:only-of-type {\n",
       "        vertical-align: middle;\n",
       "    }\n",
       "\n",
       "    .dataframe tbody tr th {\n",
       "        vertical-align: top;\n",
       "    }\n",
       "\n",
       "    .dataframe thead th {\n",
       "        text-align: right;\n",
       "    }\n",
       "</style>\n",
       "<table border=\"1\" class=\"dataframe\">\n",
       "  <thead>\n",
       "    <tr style=\"text-align: right;\">\n",
       "      <th></th>\n",
       "      <th>Left_Hand_Side</th>\n",
       "      <th>Right_Hand_Side</th>\n",
       "      <th>Support</th>\n",
       "      <th>Confidence</th>\n",
       "      <th>Lift</th>\n",
       "    </tr>\n",
       "  </thead>\n",
       "  <tbody>\n",
       "    <tr>\n",
       "      <th>0</th>\n",
       "      <td>(Apple, Wine)</td>\n",
       "      <td>(Bread)</td>\n",
       "      <td>0.454545</td>\n",
       "      <td>0.909091</td>\n",
       "      <td>1.250000</td>\n",
       "    </tr>\n",
       "    <tr>\n",
       "      <th>1</th>\n",
       "      <td>(Apple, Milk)</td>\n",
       "      <td>(Butter)</td>\n",
       "      <td>0.409091</td>\n",
       "      <td>0.818182</td>\n",
       "      <td>1.200000</td>\n",
       "    </tr>\n",
       "    <tr>\n",
       "      <th>2</th>\n",
       "      <td>(Butter)</td>\n",
       "      <td>(Milk, Bread)</td>\n",
       "      <td>0.500000</td>\n",
       "      <td>0.733333</td>\n",
       "      <td>1.241026</td>\n",
       "    </tr>\n",
       "    <tr>\n",
       "      <th>3</th>\n",
       "      <td>(Milk, Bread)</td>\n",
       "      <td>(Butter)</td>\n",
       "      <td>0.500000</td>\n",
       "      <td>0.846154</td>\n",
       "      <td>1.241026</td>\n",
       "    </tr>\n",
       "    <tr>\n",
       "      <th>4</th>\n",
       "      <td>(Wine, Butter)</td>\n",
       "      <td>(Bread)</td>\n",
       "      <td>0.454545</td>\n",
       "      <td>0.909091</td>\n",
       "      <td>1.250000</td>\n",
       "    </tr>\n",
       "    <tr>\n",
       "      <th>5</th>\n",
       "      <td>(Wine, Butter)</td>\n",
       "      <td>(Milk, Bread)</td>\n",
       "      <td>0.409091</td>\n",
       "      <td>0.818182</td>\n",
       "      <td>1.384615</td>\n",
       "    </tr>\n",
       "    <tr>\n",
       "      <th>6</th>\n",
       "      <td>(Milk, Wine, Bread)</td>\n",
       "      <td>(Butter)</td>\n",
       "      <td>0.409091</td>\n",
       "      <td>0.818182</td>\n",
       "      <td>1.200000</td>\n",
       "    </tr>\n",
       "    <tr>\n",
       "      <th>7</th>\n",
       "      <td>(Milk, Wine, Butter)</td>\n",
       "      <td>(Bread)</td>\n",
       "      <td>0.409091</td>\n",
       "      <td>0.900000</td>\n",
       "      <td>1.237500</td>\n",
       "    </tr>\n",
       "  </tbody>\n",
       "</table>\n",
       "</div>"
      ],
      "text/plain": [
       "         Left_Hand_Side Right_Hand_Side   Support  Confidence      Lift\n",
       "0         (Apple, Wine)         (Bread)  0.454545    0.909091  1.250000\n",
       "1         (Apple, Milk)        (Butter)  0.409091    0.818182  1.200000\n",
       "2              (Butter)   (Milk, Bread)  0.500000    0.733333  1.241026\n",
       "3         (Milk, Bread)        (Butter)  0.500000    0.846154  1.241026\n",
       "4        (Wine, Butter)         (Bread)  0.454545    0.909091  1.250000\n",
       "5        (Wine, Butter)   (Milk, Bread)  0.409091    0.818182  1.384615\n",
       "6   (Milk, Wine, Bread)        (Butter)  0.409091    0.818182  1.200000\n",
       "7  (Milk, Wine, Butter)         (Bread)  0.409091    0.900000  1.237500"
      ]
     },
     "execution_count": 62,
     "metadata": {},
     "output_type": "execute_result"
    }
   ],
   "source": [
    "output_DataFrame=pd.DataFrame(edited_inspect(association_results),columns=['Left_Hand_Side','Right_Hand_Side','Support','Confidence','Lift'])\n",
    "output_DataFrame"
   ]
  },
  {
   "cell_type": "markdown",
   "metadata": {},
   "source": [
    "# Hàm apriori tự viết"
   ]
  },
  {
   "attachments": {},
   "cell_type": "markdown",
   "metadata": {},
   "source": [
    "namedtuple cũng giống như tuple bình thường nhưng không những cho phép ta truy cập theo chỉ số (index) mà còn theo tên thuộc tính"
   ]
  },
  {
   "cell_type": "code",
   "execution_count": 63,
   "metadata": {},
   "outputs": [],
   "source": [
    "SupportRecord = namedtuple(\n",
    "    'SupportRecord', ('items', 'support'))  # định nghĩa một bản ghi (record) SupportRecord bao gồm các trường items và support\n",
    "RelationRecord = namedtuple(\n",
    "    'RelationRecord', SupportRecord._fields + ('ordered_statistics',))  # định nghĩa một bản ghi (record) RelationRecord kế thừa các trường từ SupportRecord và thêm trường ordered_statistics\n",
    "OrderedStatistic = namedtuple(\n",
    "    'OrderedStatistic', ('items_base', 'items_add', 'confidence', 'lift',))  # định nghĩa một bản ghi (record) OrderedStatistic bao gồm các trường items_base, items_add, confidence và lift\n"
   ]
  },
  {
   "attachments": {},
   "cell_type": "markdown",
   "metadata": {},
   "source": [
    "# Hàm tính số lượng giao dịch, số lượng item và chỉ số index của chúng trong các giao dịch"
   ]
  },
  {
   "cell_type": "code",
   "execution_count": 64,
   "metadata": {},
   "outputs": [],
   "source": [
    "def calc_num_items_index(transactions):\n",
    "    num_transaction = 0  # Tổng số giao dịch\n",
    "    items = []  # Danh sách các item\n",
    "    items_index = {}  # Chỉ số index của item trong danh sách giao dịch\n",
    "    for transaction in transactions:\n",
    "        for item in transaction:\n",
    "            if item not in items_index:\n",
    "                items.append(item)\n",
    "                items_index[item] = set()\n",
    "            items_index[item].add(num_transaction)\n",
    "        num_transaction += 1\n",
    "    return num_transaction, items, items_index\n"
   ]
  },
  {
   "cell_type": "markdown",
   "metadata": {},
   "source": [
    "# Hàm tính support của một tập itemset trong các giao dịch"
   ]
  },
  {
   "cell_type": "code",
   "execution_count": 65,
   "metadata": {},
   "outputs": [],
   "source": [
    "\n",
    "def calc_support(transaction_index, num_transaction, itemset):\n",
    "    if not itemset:\n",
    "        return 1.0  # Nếu không có item, support = 1.0\n",
    "    if not num_transaction:\n",
    "        return 0.0  # Nếu không có giao dịch, support = 0.0\n",
    "    sum_indexes = None\n",
    "    for item in itemset:\n",
    "        indexes = transaction_index.get(item)\n",
    "        if indexes is None:\n",
    "            return 0.0  # Nếu item không có trong danh sách giao dịch, support = 0.0\n",
    "        if sum_indexes is None:\n",
    "            sum_indexes = indexes\n",
    "        else:\n",
    "            sum_indexes = sum_indexes.intersection(indexes)\n",
    "    # Tính support bằng số lượng giao dịch chứa itemset chia cho tổng số giao dịch.\n",
    "    return float(len(sum_indexes)) / num_transaction\n"
   ]
  },
  {
   "attachments": {},
   "cell_type": "markdown",
   "metadata": {},
   "source": [
    "# Hàm để tạo ra các ứng viên tiếp theo cho thuật toán Apriori"
   ]
  },
  {
   "cell_type": "code",
   "execution_count": 66,
   "metadata": {},
   "outputs": [],
   "source": [
    "def create_next_candidates(prev_candidates, length):\n",
    "    # Tạo danh sách các mặt hàng đã được sắp xếp\n",
    "    # fronzenset cũng giống như set nhưng nó immutable nên có thể sử dụng như là key của dictionary\n",
    "    items = sorted(frozenset(chain.from_iterable(prev_candidates)))\n",
    "    # Tạo danh sách các ứng viên tiếp theo bằng cách lấy tất cả các kết hợp có độ dài là \"length\"\n",
    "    tmp_next_candidates = (frozenset(x) for x in combinations(items, length))\n",
    "    # Nếu độ dài \"length\" nhỏ hơn 3 thì trả về toàn bộ ứng viên vì các tập con của nó cũng giống như tập items\n",
    "    if length < 3:\n",
    "        return list(tmp_next_candidates)\n",
    "    # Tạo danh sách các ứng viên tiếp theo chỉ bao gồm các ứng viên có kích thước là \"length\" và tất cả các tập con kích thước \"length - 1\" thuộc danh sách các ứng viên trước đó\n",
    "    next_candidates = [\n",
    "        candidate for candidate in tmp_next_candidates\n",
    "        if all(\n",
    "            frozenset(x) in prev_candidates\n",
    "            for x in combinations(candidate, length - 1))\n",
    "    ]\n",
    "    # Trả về danh sách các ứng viên tiếp theo\n",
    "    return next_candidates\n"
   ]
  },
  {
   "attachments": {},
   "cell_type": "markdown",
   "metadata": {},
   "source": [
    "# Hàm tạo các bộ hỗ trợ (support records) cho các tập itemset trong các giao dịch\n"
   ]
  },
  {
   "cell_type": "code",
   "execution_count": 67,
   "metadata": {},
   "outputs": [],
   "source": [
    "\n",
    "def create_support_records(transaction_items, transaction_index, num_transaction, min_support):\n",
    "    # Khởi tạo tập ứng viên đầu tiên chỉ chứa các item đơn lẻ.\n",
    "    candidates = [frozenset([item]) for item in transaction_items]\n",
    "    length = 1\n",
    "    support_records=[] # Danh sách chứa các SupportRecord thỏa mãn điều kiện\n",
    "    # Tiếp tục tạo các tập ứng viên mới cho đến khi không còn ứng viên nào thỏa mãn điều kiện.\n",
    "    while candidates:\n",
    "        relations = set()  # Tập hỗ trợ (support set) chứa các tập ứng viên thỏa mãn điều kiện.\n",
    "        for relation_candidate in candidates:\n",
    "            # Tính support của tập ứng viên hiện tại.\n",
    "            support = calc_support(transaction_index, num_transaction, relation_candidate)\n",
    "            if support < min_support:\n",
    "                continue  # Nếu support nhỏ hơn min_support, bỏ qua.\n",
    "            candidate_set = frozenset(relation_candidate)\n",
    "            relations.add(candidate_set)\n",
    "            support_records.append(SupportRecord(candidate_set,support))\n",
    "        length += 1\n",
    "        candidates = create_next_candidates(relations, length)  # Tạo các ứng viên mới có độ dài tăng dần.\n",
    "    return support_records # Trả về danh sách các SupportRecord thỏa mãn điều kiện."
   ]
  },
  {
   "attachments": {},
   "cell_type": "markdown",
   "metadata": {},
   "source": [
    "# Hàm tạo các thống kê được sắp xếp theo thứ tự của các phần tử trong itemsets"
   ]
  },
  {
   "cell_type": "code",
   "execution_count": 68,
   "metadata": {},
   "outputs": [],
   "source": [
    "\n",
    "def create_ordered_statistics(transaction_index, num_transaction, record):\n",
    "    items = record.items\n",
    "    sorted_items = sorted(items) # sắp xếp lại các phần tử trong itemsets\n",
    "    ordered_statistics = [] # danh sách các thống kê sắp xếp\n",
    "\n",
    "    for base_length in range(len(items)): # duyệt qua các kích thước base_length\n",
    "        for combination_set in combinations(sorted_items, base_length): # duyệt qua tất cả các tập con có kích thước base_length\n",
    "            items_base = frozenset(combination_set) # tập hợp các phần tử trong base\n",
    "            items_add = frozenset(items.difference(items_base)) # tập hợp các phần tử còn lại (không thuộc base)\n",
    "            confidence = ( # tính toán confidence và lift\n",
    "                record.support / calc_support(transaction_index, num_transaction, items_base))\n",
    "            lift = confidence / calc_support(transaction_index, num_transaction, items_add)\n",
    "\n",
    "            # thêm vào danh sách ordered_statistics một OrderedStatistic mới\n",
    "            ordered_statistics.append(OrderedStatistic(\n",
    "                frozenset(items_base), frozenset(items_add), confidence, lift))\n",
    "\n",
    "    return ordered_statistics"
   ]
  },
  {
   "cell_type": "markdown",
   "metadata": {},
   "source": [
    "# Hàm dùng để lọc các association rule theo ngưỡng min_confidence và min_lift cho trước.\n",
    "\n"
   ]
  },
  {
   "cell_type": "code",
   "execution_count": 69,
   "metadata": {},
   "outputs": [],
   "source": [
    "def filter_ordered_statistics(ordered_statistics, min_confidence, min_lift):\n",
    "    # danh sách để lưu trữ các association rule được giữ lại\n",
    "    filter_ordered_statistics_list = []\n",
    "    # duyệt qua từng association rule trong danh sách ordered_statistics\n",
    "    for ordered_statistic in ordered_statistics:\n",
    "        # nếu confidence hoặc lift của association rule đó nhỏ hơn ngưỡng tương ứng thì bỏ qua và không thêm vào filter_ordered_statistics_list\n",
    "        if ordered_statistic.confidence < min_confidence:\n",
    "            continue\n",
    "        if ordered_statistic.lift < min_lift:\n",
    "            continue\n",
    "        # ngược lại, thêm association rule đó vào filter_ordered_statistics_list\n",
    "        filter_ordered_statistics_list.append(ordered_statistic)\n",
    "    # trả về filter_ordered_statistics_list sau khi lọc xong\n",
    "    return filter_ordered_statistics_list\n"
   ]
  },
  {
   "attachments": {},
   "cell_type": "markdown",
   "metadata": {},
   "source": [
    "# Hàm thuật toán chính apriori"
   ]
  },
  {
   "cell_type": "code",
   "execution_count": 70,
   "metadata": {},
   "outputs": [],
   "source": [
    "def my_apriori(transactions, min_support=0.1, min_confidence=0.0, min_lift=0.0):\n",
    "    if min_support <= 0:\n",
    "        raise ValueError('minimum support must be > 0')\n",
    "\n",
    "    # tính toán các chỉ số cho các giao dịch, danh sách các mục trong các giao dịch và một bản đồ từ mục đến các giao dịch chứa chúng\n",
    "    # num_transaction là số giao dịch trong transactions.\n",
    "    # transaction_items là danh sách các item trong các giao dịch.\n",
    "    # transaction_index là danh sách index của các item  trong các giao dịch chứa chúng\n",
    "    num_transaction, transaction_items, transaction_index = calc_num_items_index(\n",
    "        transactions)\n",
    "    support_records = create_support_records(\n",
    "        transaction_items, transaction_index, num_transaction, min_support)\n",
    "    relation_records = [] # danh sách các relation records\n",
    "    for support_record in support_records:\n",
    "        ordered_statistics = list(\n",
    "            filter_ordered_statistics(\n",
    "                create_ordered_statistics(\n",
    "                    transaction_index, num_transaction, support_record),\n",
    "                min_confidence=min_confidence,\n",
    "                min_lift=min_lift,\n",
    "            )\n",
    "        )\n",
    "        if not ordered_statistics:\n",
    "            continue\n",
    "        relation_records.append(RelationRecord(\n",
    "            support_record.items, support_record.support, ordered_statistics))\n",
    "    return relation_records\n"
   ]
  },
  {
   "cell_type": "markdown",
   "metadata": {},
   "source": [
    "# So sánh kết quả với hàm apriori"
   ]
  },
  {
   "cell_type": "code",
   "execution_count": 71,
   "metadata": {},
   "outputs": [],
   "source": [
    "association_rules=my_apriori(records,min_support=0.4,min_confidence=0.7,min_lift=1.2)"
   ]
  },
  {
   "cell_type": "code",
   "execution_count": 72,
   "metadata": {},
   "outputs": [
    {
     "data": {
      "text/plain": [
       "[RelationRecord(items=frozenset({'Apple', 'Wine', 'Bread'}), support=0.45454545454545453, ordered_statistics=[OrderedStatistic(items_base=frozenset({'Apple', 'Wine'}), items_add=frozenset({'Bread'}), confidence=0.9090909090909091, lift=1.25)]),\n",
       " RelationRecord(items=frozenset({'Apple', 'Milk', 'Butter'}), support=0.4090909090909091, ordered_statistics=[OrderedStatistic(items_base=frozenset({'Apple', 'Milk'}), items_add=frozenset({'Butter'}), confidence=0.8181818181818182, lift=1.2000000000000002)]),\n",
       " RelationRecord(items=frozenset({'Butter', 'Milk', 'Bread'}), support=0.5, ordered_statistics=[OrderedStatistic(items_base=frozenset({'Butter'}), items_add=frozenset({'Milk', 'Bread'}), confidence=0.7333333333333334, lift=1.241025641025641), OrderedStatistic(items_base=frozenset({'Milk', 'Bread'}), items_add=frozenset({'Butter'}), confidence=0.8461538461538461, lift=1.241025641025641)]),\n",
       " RelationRecord(items=frozenset({'Butter', 'Wine', 'Bread'}), support=0.45454545454545453, ordered_statistics=[OrderedStatistic(items_base=frozenset({'Wine', 'Butter'}), items_add=frozenset({'Bread'}), confidence=0.9090909090909091, lift=1.25)]),\n",
       " RelationRecord(items=frozenset({'Butter', 'Milk', 'Wine', 'Bread'}), support=0.4090909090909091, ordered_statistics=[OrderedStatistic(items_base=frozenset({'Wine', 'Butter'}), items_add=frozenset({'Milk', 'Bread'}), confidence=0.8181818181818182, lift=1.3846153846153846), OrderedStatistic(items_base=frozenset({'Milk', 'Wine', 'Bread'}), items_add=frozenset({'Butter'}), confidence=0.8181818181818182, lift=1.2000000000000002), OrderedStatistic(items_base=frozenset({'Milk', 'Wine', 'Butter'}), items_add=frozenset({'Bread'}), confidence=0.9000000000000001, lift=1.2375)])]"
      ]
     },
     "execution_count": 72,
     "metadata": {},
     "output_type": "execute_result"
    }
   ],
   "source": [
    "association_results=list(association_rules)\n",
    "association_results"
   ]
  },
  {
   "cell_type": "code",
   "execution_count": 73,
   "metadata": {},
   "outputs": [
    {
     "data": {
      "text/html": [
       "<div>\n",
       "<style scoped>\n",
       "    .dataframe tbody tr th:only-of-type {\n",
       "        vertical-align: middle;\n",
       "    }\n",
       "\n",
       "    .dataframe tbody tr th {\n",
       "        vertical-align: top;\n",
       "    }\n",
       "\n",
       "    .dataframe thead th {\n",
       "        text-align: right;\n",
       "    }\n",
       "</style>\n",
       "<table border=\"1\" class=\"dataframe\">\n",
       "  <thead>\n",
       "    <tr style=\"text-align: right;\">\n",
       "      <th></th>\n",
       "      <th>Left_Hand_Side</th>\n",
       "      <th>Right_Hand_Side</th>\n",
       "      <th>Support</th>\n",
       "      <th>Confidence</th>\n",
       "      <th>Lift</th>\n",
       "    </tr>\n",
       "  </thead>\n",
       "  <tbody>\n",
       "    <tr>\n",
       "      <th>0</th>\n",
       "      <td>(Apple, Wine)</td>\n",
       "      <td>(Bread)</td>\n",
       "      <td>0.454545</td>\n",
       "      <td>0.909091</td>\n",
       "      <td>1.250000</td>\n",
       "    </tr>\n",
       "    <tr>\n",
       "      <th>1</th>\n",
       "      <td>(Apple, Milk)</td>\n",
       "      <td>(Butter)</td>\n",
       "      <td>0.409091</td>\n",
       "      <td>0.818182</td>\n",
       "      <td>1.200000</td>\n",
       "    </tr>\n",
       "    <tr>\n",
       "      <th>2</th>\n",
       "      <td>(Butter)</td>\n",
       "      <td>(Milk, Bread)</td>\n",
       "      <td>0.500000</td>\n",
       "      <td>0.733333</td>\n",
       "      <td>1.241026</td>\n",
       "    </tr>\n",
       "    <tr>\n",
       "      <th>3</th>\n",
       "      <td>(Milk, Bread)</td>\n",
       "      <td>(Butter)</td>\n",
       "      <td>0.500000</td>\n",
       "      <td>0.846154</td>\n",
       "      <td>1.241026</td>\n",
       "    </tr>\n",
       "    <tr>\n",
       "      <th>4</th>\n",
       "      <td>(Wine, Butter)</td>\n",
       "      <td>(Bread)</td>\n",
       "      <td>0.454545</td>\n",
       "      <td>0.909091</td>\n",
       "      <td>1.250000</td>\n",
       "    </tr>\n",
       "    <tr>\n",
       "      <th>5</th>\n",
       "      <td>(Wine, Butter)</td>\n",
       "      <td>(Milk, Bread)</td>\n",
       "      <td>0.409091</td>\n",
       "      <td>0.818182</td>\n",
       "      <td>1.384615</td>\n",
       "    </tr>\n",
       "    <tr>\n",
       "      <th>6</th>\n",
       "      <td>(Milk, Wine, Bread)</td>\n",
       "      <td>(Butter)</td>\n",
       "      <td>0.409091</td>\n",
       "      <td>0.818182</td>\n",
       "      <td>1.200000</td>\n",
       "    </tr>\n",
       "    <tr>\n",
       "      <th>7</th>\n",
       "      <td>(Milk, Wine, Butter)</td>\n",
       "      <td>(Bread)</td>\n",
       "      <td>0.409091</td>\n",
       "      <td>0.900000</td>\n",
       "      <td>1.237500</td>\n",
       "    </tr>\n",
       "  </tbody>\n",
       "</table>\n",
       "</div>"
      ],
      "text/plain": [
       "         Left_Hand_Side Right_Hand_Side   Support  Confidence      Lift\n",
       "0         (Apple, Wine)         (Bread)  0.454545    0.909091  1.250000\n",
       "1         (Apple, Milk)        (Butter)  0.409091    0.818182  1.200000\n",
       "2              (Butter)   (Milk, Bread)  0.500000    0.733333  1.241026\n",
       "3         (Milk, Bread)        (Butter)  0.500000    0.846154  1.241026\n",
       "4        (Wine, Butter)         (Bread)  0.454545    0.909091  1.250000\n",
       "5        (Wine, Butter)   (Milk, Bread)  0.409091    0.818182  1.384615\n",
       "6   (Milk, Wine, Bread)        (Butter)  0.409091    0.818182  1.200000\n",
       "7  (Milk, Wine, Butter)         (Bread)  0.409091    0.900000  1.237500"
      ]
     },
     "execution_count": 73,
     "metadata": {},
     "output_type": "execute_result"
    }
   ],
   "source": [
    "output_DataFrame=pd.DataFrame(edited_inspect(association_results),columns=['Left_Hand_Side','Right_Hand_Side','Support','Confidence','Lift'])\n",
    "output_DataFrame"
   ]
  },
  {
   "cell_type": "markdown",
   "metadata": {},
   "source": [
    "Ta thấy kết quả giống với quả của hàm apriori"
   ]
  }
 ],
 "metadata": {
  "kernelspec": {
   "display_name": "env",
   "language": "python",
   "name": "python3"
  },
  "language_info": {
   "codemirror_mode": {
    "name": "ipython",
    "version": 3
   },
   "file_extension": ".py",
   "mimetype": "text/x-python",
   "name": "python",
   "nbconvert_exporter": "python",
   "pygments_lexer": "ipython3",
   "version": "3.10.6"
  },
  "orig_nbformat": 4
 },
 "nbformat": 4,
 "nbformat_minor": 2
}
