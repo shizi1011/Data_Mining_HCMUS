{
 "cells": [
  {
   "cell_type": "markdown",
   "metadata": {},
   "source": [
    "# Import các thư viện cần thiết "
   ]
  },
  {
   "cell_type": "code",
   "execution_count": 1,
   "metadata": {},
   "outputs": [],
   "source": [
    "import numpy as np\n",
    "import pandas as pd"
   ]
  },
  {
   "cell_type": "code",
   "execution_count": 2,
   "metadata": {},
   "outputs": [],
   "source": [
    "from collections import namedtuple\n",
    "from itertools import combinations\n",
    "from itertools import chain"
   ]
  },
  {
   "cell_type": "markdown",
   "metadata": {},
   "source": [
    "# Đọc dữ liệu vào dataframe từ file csv"
   ]
  },
  {
   "cell_type": "code",
   "execution_count": 3,
   "metadata": {},
   "outputs": [],
   "source": [
    "df=pd.read_csv(r\"data.csv\",header=None)"
   ]
  },
  {
   "cell_type": "markdown",
   "metadata": {},
   "source": [
    "# Chuyển dataframe thành dạng list"
   ]
  },
  {
   "cell_type": "code",
   "execution_count": 4,
   "metadata": {},
   "outputs": [],
   "source": [
    "records=[]\n",
    "for i in range(0,df.shape[0]):\n",
    "    records.append([str(df.values[i,j]) for j  in range(0,6)])"
   ]
  },
  {
   "cell_type": "markdown",
   "metadata": {},
   "source": [
    "# Định nghĩa một bản ghi (record) SupportRecord bao gồm các trường items và support\n",
    "\n",
    "namedtuple cũng giống như tuple bình thường nhưng không những cho phép ta truy cập theo chỉ số (index) mà còn theo tên thuộc tính"
   ]
  },
  {
   "cell_type": "code",
   "execution_count": 5,
   "metadata": {},
   "outputs": [],
   "source": [
    "SupportRecord = namedtuple(\n",
    "    'SupportRecord', ('items', 'support'))  # định nghĩa một bản ghi (record) SupportRecord bao gồm các trường items và support"
   ]
  },
  {
   "cell_type": "markdown",
   "metadata": {},
   "source": [
    "# Hàm tính số lượng giao dịch, số lượng item và chỉ số index của chúng trong các giao dịch"
   ]
  },
  {
   "cell_type": "code",
   "execution_count": 6,
   "metadata": {},
   "outputs": [],
   "source": [
    "def calc_num_items_index(transactions):\n",
    "    num_transaction = 0  # Tổng số giao dịch\n",
    "    items = []  # Danh sách các item\n",
    "    items_index = {}  # Chỉ số index của item trong danh sách giao dịch\n",
    "    for transaction in transactions:\n",
    "        for item in transaction:\n",
    "            if item == 'nan': # Bỏ qua các giá trị nan\n",
    "                continue\n",
    "            if item not in items_index:\n",
    "                items.append(item)\n",
    "                items_index[item] = set()\n",
    "            items_index[item].add(num_transaction)\n",
    "        num_transaction += 1\n",
    "    return num_transaction, items, items_index\n"
   ]
  },
  {
   "attachments": {},
   "cell_type": "markdown",
   "metadata": {},
   "source": [
    "# Hàm để tạo ra các ứng viên tiếp theo cho thuật toán Vertical Apriori"
   ]
  },
  {
   "cell_type": "code",
   "execution_count": 7,
   "metadata": {},
   "outputs": [],
   "source": [
    "def create_next_candidates(prev_candidates, length):\n",
    "    # Tạo danh sách các mặt hàng đã được sắp xếp\n",
    "    # fronzenset cũng giống như set nhưng nó immutable nên có thể sử dụng như là key của dictionary\n",
    "    items = sorted(frozenset(chain.from_iterable(prev_candidates)))\n",
    "    # Tạo danh sách các ứng viên tiếp theo bằng cách lấy tất cả các kết hợp có độ dài là \"length\"\n",
    "    tmp_next_candidates = (frozenset(x) for x in combinations(items, length))\n",
    "    # Nếu độ dài \"length\" nhỏ hơn 3 thì trả về toàn bộ ứng viên vì các tập con của nó cũng giống như tập items\n",
    "    if length < 3:\n",
    "        return list(tmp_next_candidates)\n",
    "    # Tạo danh sách các ứng viên tiếp theo chỉ bao gồm các ứng viên có kích thước là \"length\" và tất cả các tập con kích thước \"length - 1\" thuộc danh sách các ứng viên trước đó\n",
    "    next_candidates = [\n",
    "        candidate for candidate in tmp_next_candidates\n",
    "        if all(\n",
    "            frozenset(x) in prev_candidates\n",
    "            for x in combinations(candidate, length - 1))\n",
    "    ]\n",
    "    # Trả về danh sách các ứng viên tiếp theo\n",
    "    return next_candidates\n"
   ]
  },
  {
   "cell_type": "markdown",
   "metadata": {},
   "source": [
    "# Hàm Vertical Apriori"
   ]
  },
  {
   "attachments": {},
   "cell_type": "markdown",
   "metadata": {},
   "source": [
    "Ở trong file pdf, support của một itemset là số lượng giao dịch chứa itemset, tuy nhiên để giống với định nghĩa support, cũng như để dễ so sánh với hàm ECLAT, support ở đây có ý nghĩa là số lượng giao dịch chứa itemset chia cho tổng số lượng giao dịch\n",
    "\n",
    "Ví dụ min_support = 3 trong file pdf tương ứng với min_support = 3/22 ( vì có tổng 22 giao dịch)"
   ]
  },
  {
   "cell_type": "code",
   "execution_count": 8,
   "metadata": {},
   "outputs": [],
   "source": [
    "\n",
    "def vertical_apriori(transactions, min_support, min_combination=1, max_combination=None):\n",
    "    # tính toán các chỉ số cho các giao dịch, danh sách các mục trong các giao dịch và một bản đồ từ mục đến các giao dịch chứa chúng\n",
    "    # num_transaction là số giao dịch trong transactions.\n",
    "    # transaction_items là danh sách các item trong các giao dịch.\n",
    "    # transaction_index là danh sách index của các item  trong các giao dịch chứa chúng\n",
    "    num_transaction, transaction_items, transaction_index = calc_num_items_index(\n",
    "        transactions)\n",
    "    # Nếu max_combination không được chỉ định, nó sẽ bao gồm tất cả các item trong các giao dịch\n",
    "    if max_combination is None:\n",
    "        max_combination = len(transaction_items)\n",
    "    # Khởi tạo tập ứng viên đầu tiên chỉ chứa các item đơn lẻ.\n",
    "    candidates = [frozenset([item]) for item in transaction_items]\n",
    "    length = 1\n",
    "    support_records = []  # Danh sách chứa các SupportRecord thỏa mãn điều kiện\n",
    "    # Tiếp tục tạo các tập ứng viên mới cho đến khi không còn ứng viên nào thỏa mãn điều kiện.\n",
    "    while candidates:\n",
    "        # Tập hỗ trợ (support set) chứa các tập ứng viên thỏa mãn điều kiện.\n",
    "        relations = set()\n",
    "        for relation_candidate in candidates:\n",
    "            # Tính support của tập ứng viên hiện tại.\n",
    "            support = len(set.intersection(\n",
    "                *[transaction_index[item] for item in relation_candidate]))\n",
    "            if support < min_support*num_transaction:\n",
    "                continue  # Nếu support nhỏ hơn min_support, bỏ qua.\n",
    "            candidate_set = frozenset(relation_candidate)\n",
    "            relations.add(candidate_set)\n",
    "            \n",
    "            # Chỉ lấy các support record có số lượng item >= min_combination\n",
    "            if len(candidate_set) < min_combination:\n",
    "                continue\n",
    "            support_records.append(SupportRecord(\n",
    "                candidate_set, support/num_transaction))\n",
    "        length += 1\n",
    "        # Chỉ lấy các support record có số lượng items <= max_combination\n",
    "        if length > max_combination:\n",
    "            break\n",
    "        # Tạo các ứng viên mới có độ dài tăng dần.\n",
    "        candidates = create_next_candidates(relations, length)\n",
    "    # Trả về danh sách các SupportRecord thỏa mãn điều kiện.\n",
    "    return support_records\n"
   ]
  },
  {
   "cell_type": "markdown",
   "metadata": {},
   "source": [
    "# Xử lý kết quả thô để giống với kết quả của hàm ECLAT(không cần thiết vì nhìn kết quả thô cũng so sánh được )"
   ]
  },
  {
   "cell_type": "code",
   "execution_count": 9,
   "metadata": {},
   "outputs": [
    {
     "data": {
      "text/plain": [
       "{'Wine': 0.7272727272727273,\n",
       " 'Chips': 0.6363636363636364,\n",
       " 'Bread': 0.7272727272727273,\n",
       " 'Butter': 0.6818181818181818,\n",
       " 'Milk': 0.7727272727272727,\n",
       " 'Apple': 0.6818181818181818,\n",
       " 'Bread&Apple': 0.5454545454545454,\n",
       " 'Apple&Butter': 0.5,\n",
       " 'Apple&Chips': 0.45454545454545453,\n",
       " 'Milk&Apple': 0.5,\n",
       " 'Wine&Apple': 0.5,\n",
       " 'Bread&Butter': 0.5909090909090909,\n",
       " 'Bread&Chips': 0.4090909090909091,\n",
       " 'Milk&Bread': 0.5909090909090909,\n",
       " 'Bread&Wine': 0.5909090909090909,\n",
       " 'Butter&Chips': 0.4090909090909091,\n",
       " 'Milk&Butter': 0.5909090909090909,\n",
       " 'Wine&Butter': 0.5,\n",
       " 'Milk&Chips': 0.45454545454545453,\n",
       " 'Wine&Chips': 0.4090909090909091,\n",
       " 'Milk&Wine': 0.6363636363636364,\n",
       " 'Bread&Apple&Butter': 0.4090909090909091,\n",
       " 'Bread&Apple&Chips': 0.36363636363636365,\n",
       " 'Milk&Bread&Apple': 0.4090909090909091,\n",
       " 'Bread&Apple&Wine': 0.45454545454545453,\n",
       " 'Apple&Butter&Chips': 0.36363636363636365,\n",
       " 'Milk&Apple&Butter': 0.4090909090909091,\n",
       " 'Wine&Apple&Butter': 0.36363636363636365,\n",
       " 'Milk&Apple&Chips': 0.3181818181818182,\n",
       " 'Wine&Apple&Chips': 0.2727272727272727,\n",
       " 'Milk&Apple&Wine': 0.4090909090909091,\n",
       " 'Bread&Butter&Chips': 0.36363636363636365,\n",
       " 'Milk&Bread&Butter': 0.5,\n",
       " 'Bread&Butter&Wine': 0.45454545454545453,\n",
       " 'Milk&Bread&Chips': 0.3181818181818182,\n",
       " 'Bread&Wine&Chips': 0.3181818181818182,\n",
       " 'Milk&Bread&Wine': 0.5,\n",
       " 'Milk&Butter&Chips': 0.3181818181818182,\n",
       " 'Wine&Butter&Chips': 0.2727272727272727,\n",
       " 'Milk&Butter&Wine': 0.45454545454545453,\n",
       " 'Milk&Wine&Chips': 0.36363636363636365,\n",
       " 'Bread&Apple&Butter&Chips': 0.3181818181818182,\n",
       " 'Milk&Bread&Apple&Butter': 0.3181818181818182,\n",
       " 'Bread&Apple&Butter&Wine': 0.3181818181818182,\n",
       " 'Milk&Bread&Apple&Chips': 0.2727272727272727,\n",
       " 'Bread&Apple&Wine&Chips': 0.2727272727272727,\n",
       " 'Milk&Bread&Apple&Wine': 0.36363636363636365,\n",
       " 'Milk&Apple&Butter&Chips': 0.2727272727272727,\n",
       " 'Wine&Apple&Butter&Chips': 0.22727272727272727,\n",
       " 'Milk&Apple&Butter&Wine': 0.3181818181818182,\n",
       " 'Milk&Apple&Wine&Chips': 0.22727272727272727,\n",
       " 'Milk&Bread&Butter&Chips': 0.2727272727272727,\n",
       " 'Wine&Bread&Butter&Chips': 0.2727272727272727,\n",
       " 'Milk&Bread&Butter&Wine': 0.4090909090909091,\n",
       " 'Milk&Bread&Wine&Chips': 0.2727272727272727,\n",
       " 'Wine&Milk&Butter&Chips': 0.22727272727272727,\n",
       " 'Apple&Chips&Bread&Butter&Milk': 0.22727272727272727,\n",
       " 'Apple&Chips&Wine&Bread&Butter': 0.22727272727272727,\n",
       " 'Apple&Bread&Wine&Butter&Milk': 0.2727272727272727,\n",
       " 'Apple&Chips&Bread&Wine&Milk': 0.22727272727272727,\n",
       " 'Apple&Chips&Wine&Butter&Milk': 0.18181818181818182,\n",
       " 'Chips&Bread&Wine&Butter&Milk': 0.22727272727272727,\n",
       " 'Apple&Chips&Bread&Wine&Butter&Milk': 0.18181818181818182}"
      ]
     },
     "execution_count": 9,
     "metadata": {},
     "output_type": "execute_result"
    }
   ],
   "source": [
    "output = vertical_apriori(records,3/22) # trường hợp min_support = 3/22 (tương đương với 3 trong file pdf)\n",
    "res_dict={}\n",
    "for res in  output:\n",
    "    res_dict['&'.join(res.items)]=res.support\n",
    "res_dict"
   ]
  },
  {
   "cell_type": "markdown",
   "metadata": {},
   "source": [
    "# So sánh với kết quả hàm ECLAT"
   ]
  },
  {
   "cell_type": "code",
   "execution_count": 10,
   "metadata": {},
   "outputs": [],
   "source": [
    "from pyECLAT import ECLAT"
   ]
  },
  {
   "cell_type": "code",
   "execution_count": 11,
   "metadata": {},
   "outputs": [
    {
     "name": "stderr",
     "output_type": "stream",
     "text": [
      "100%|██████████| 6/6 [00:00<00:00, 164.70it/s]\n",
      "100%|██████████| 6/6 [00:00<?, ?it/s]\n",
      "100%|██████████| 6/6 [00:00<00:00, 1002.34it/s]\n"
     ]
    },
    {
     "name": "stdout",
     "output_type": "stream",
     "text": [
      "Combination 1 by 1\n"
     ]
    },
    {
     "name": "stderr",
     "output_type": "stream",
     "text": [
      "6it [00:00, 130.79it/s]\n"
     ]
    },
    {
     "name": "stdout",
     "output_type": "stream",
     "text": [
      "Combination 2 by 2\n"
     ]
    },
    {
     "name": "stderr",
     "output_type": "stream",
     "text": [
      "15it [00:00, 99.60it/s] \n"
     ]
    },
    {
     "name": "stdout",
     "output_type": "stream",
     "text": [
      "Combination 3 by 3\n"
     ]
    },
    {
     "name": "stderr",
     "output_type": "stream",
     "text": [
      "20it [00:00, 69.15it/s]\n"
     ]
    },
    {
     "name": "stdout",
     "output_type": "stream",
     "text": [
      "Combination 4 by 4\n"
     ]
    },
    {
     "name": "stderr",
     "output_type": "stream",
     "text": [
      "15it [00:00, 73.72it/s]\n"
     ]
    },
    {
     "name": "stdout",
     "output_type": "stream",
     "text": [
      "Combination 5 by 5\n"
     ]
    },
    {
     "name": "stderr",
     "output_type": "stream",
     "text": [
      "6it [00:00, 65.39it/s]\n"
     ]
    },
    {
     "name": "stdout",
     "output_type": "stream",
     "text": [
      "Combination 6 by 6\n"
     ]
    },
    {
     "name": "stderr",
     "output_type": "stream",
     "text": [
      "1it [00:00, 40.10it/s]\n"
     ]
    },
    {
     "data": {
      "text/plain": [
       "{'Apple': 0.6818181818181818,\n",
       " 'Chips': 0.6363636363636364,\n",
       " 'Wine': 0.7272727272727273,\n",
       " 'Bread': 0.7272727272727273,\n",
       " 'Butter': 0.6818181818181818,\n",
       " 'Milk': 0.7727272727272727,\n",
       " 'Apple&Chips': 0.45454545454545453,\n",
       " 'Apple&Wine': 0.5,\n",
       " 'Apple&Bread': 0.5454545454545454,\n",
       " 'Apple&Butter': 0.5,\n",
       " 'Apple&Milk': 0.5,\n",
       " 'Chips&Wine': 0.4090909090909091,\n",
       " 'Chips&Bread': 0.4090909090909091,\n",
       " 'Chips&Butter': 0.4090909090909091,\n",
       " 'Chips&Milk': 0.45454545454545453,\n",
       " 'Wine&Bread': 0.5909090909090909,\n",
       " 'Wine&Butter': 0.5,\n",
       " 'Wine&Milk': 0.6363636363636364,\n",
       " 'Bread&Butter': 0.5909090909090909,\n",
       " 'Bread&Milk': 0.5909090909090909,\n",
       " 'Butter&Milk': 0.5909090909090909,\n",
       " 'Apple&Chips&Wine': 0.2727272727272727,\n",
       " 'Apple&Chips&Bread': 0.36363636363636365,\n",
       " 'Apple&Chips&Butter': 0.36363636363636365,\n",
       " 'Apple&Chips&Milk': 0.3181818181818182,\n",
       " 'Apple&Wine&Bread': 0.45454545454545453,\n",
       " 'Apple&Wine&Butter': 0.36363636363636365,\n",
       " 'Apple&Wine&Milk': 0.4090909090909091,\n",
       " 'Apple&Bread&Butter': 0.4090909090909091,\n",
       " 'Apple&Bread&Milk': 0.4090909090909091,\n",
       " 'Apple&Butter&Milk': 0.4090909090909091,\n",
       " 'Chips&Wine&Bread': 0.3181818181818182,\n",
       " 'Chips&Wine&Butter': 0.2727272727272727,\n",
       " 'Chips&Wine&Milk': 0.36363636363636365,\n",
       " 'Chips&Bread&Butter': 0.36363636363636365,\n",
       " 'Chips&Bread&Milk': 0.3181818181818182,\n",
       " 'Chips&Butter&Milk': 0.3181818181818182,\n",
       " 'Wine&Bread&Butter': 0.45454545454545453,\n",
       " 'Wine&Bread&Milk': 0.5,\n",
       " 'Wine&Butter&Milk': 0.45454545454545453,\n",
       " 'Bread&Butter&Milk': 0.5,\n",
       " 'Apple&Chips&Wine&Bread': 0.2727272727272727,\n",
       " 'Apple&Chips&Wine&Butter': 0.22727272727272727,\n",
       " 'Apple&Chips&Wine&Milk': 0.22727272727272727,\n",
       " 'Apple&Chips&Bread&Butter': 0.3181818181818182,\n",
       " 'Apple&Chips&Bread&Milk': 0.2727272727272727,\n",
       " 'Apple&Chips&Butter&Milk': 0.2727272727272727,\n",
       " 'Apple&Wine&Bread&Butter': 0.3181818181818182,\n",
       " 'Apple&Wine&Bread&Milk': 0.36363636363636365,\n",
       " 'Apple&Wine&Butter&Milk': 0.3181818181818182,\n",
       " 'Apple&Bread&Butter&Milk': 0.3181818181818182,\n",
       " 'Chips&Wine&Bread&Butter': 0.2727272727272727,\n",
       " 'Chips&Wine&Bread&Milk': 0.2727272727272727,\n",
       " 'Chips&Wine&Butter&Milk': 0.22727272727272727,\n",
       " 'Chips&Bread&Butter&Milk': 0.2727272727272727,\n",
       " 'Wine&Bread&Butter&Milk': 0.4090909090909091,\n",
       " 'Apple&Chips&Wine&Bread&Butter': 0.22727272727272727,\n",
       " 'Apple&Chips&Wine&Bread&Milk': 0.22727272727272727,\n",
       " 'Apple&Chips&Wine&Butter&Milk': 0.18181818181818182,\n",
       " 'Apple&Chips&Bread&Butter&Milk': 0.22727272727272727,\n",
       " 'Apple&Wine&Bread&Butter&Milk': 0.2727272727272727,\n",
       " 'Chips&Wine&Bread&Butter&Milk': 0.22727272727272727,\n",
       " 'Apple&Chips&Wine&Bread&Butter&Milk': 0.18181818181818182}"
      ]
     },
     "execution_count": 11,
     "metadata": {},
     "output_type": "execute_result"
    }
   ],
   "source": [
    "eclat_instance=ECLAT(data=df,verbose=True)\n",
    "indexes,supports = eclat_instance.fit(min_support=3/22,min_combination=1,max_combination=6,separator='&',verbose=True)\n",
    "supports"
   ]
  },
  {
   "attachments": {},
   "cell_type": "markdown",
   "metadata": {},
   "source": [
    "# So sánh  2 kết quả thấy giống nhau "
   ]
  },
  {
   "attachments": {},
   "cell_type": "markdown",
   "metadata": {},
   "source": [
    "# Một số bộ test khác để so sánh 2 kết quả"
   ]
  },
  {
   "attachments": {},
   "cell_type": "markdown",
   "metadata": {},
   "source": [
    "## Test 1\n",
    "\n",
    "min_support = 0.4, min_combination = 2, max_combination =5"
   ]
  },
  {
   "cell_type": "code",
   "execution_count": 12,
   "metadata": {},
   "outputs": [
    {
     "data": {
      "text/plain": [
       "{'Bread&Apple': 0.5454545454545454,\n",
       " 'Apple&Butter': 0.5,\n",
       " 'Apple&Chips': 0.45454545454545453,\n",
       " 'Milk&Apple': 0.5,\n",
       " 'Wine&Apple': 0.5,\n",
       " 'Bread&Butter': 0.5909090909090909,\n",
       " 'Bread&Chips': 0.4090909090909091,\n",
       " 'Milk&Bread': 0.5909090909090909,\n",
       " 'Bread&Wine': 0.5909090909090909,\n",
       " 'Butter&Chips': 0.4090909090909091,\n",
       " 'Milk&Butter': 0.5909090909090909,\n",
       " 'Wine&Butter': 0.5,\n",
       " 'Milk&Chips': 0.45454545454545453,\n",
       " 'Wine&Chips': 0.4090909090909091,\n",
       " 'Milk&Wine': 0.6363636363636364,\n",
       " 'Bread&Apple&Butter': 0.4090909090909091,\n",
       " 'Milk&Bread&Apple': 0.4090909090909091,\n",
       " 'Bread&Apple&Wine': 0.45454545454545453,\n",
       " 'Milk&Apple&Butter': 0.4090909090909091,\n",
       " 'Milk&Apple&Wine': 0.4090909090909091,\n",
       " 'Milk&Bread&Butter': 0.5,\n",
       " 'Bread&Butter&Wine': 0.45454545454545453,\n",
       " 'Milk&Bread&Wine': 0.5,\n",
       " 'Milk&Butter&Wine': 0.45454545454545453,\n",
       " 'Milk&Bread&Butter&Wine': 0.4090909090909091}"
      ]
     },
     "execution_count": 12,
     "metadata": {},
     "output_type": "execute_result"
    }
   ],
   "source": [
    "output = vertical_apriori(records,0.4, min_combination=2, max_combination=5)\n",
    "res_dict={}\n",
    "for res in  output:\n",
    "    res_dict['&'.join(res.items)]=res.support\n",
    "res_dict"
   ]
  },
  {
   "cell_type": "code",
   "execution_count": 13,
   "metadata": {},
   "outputs": [
    {
     "name": "stderr",
     "output_type": "stream",
     "text": [
      "100%|██████████| 6/6 [00:00<00:00, 215.11it/s]\n",
      "100%|██████████| 6/6 [00:00<00:00, 6029.19it/s]\n",
      "100%|██████████| 6/6 [00:00<00:00, 501.27it/s]\n"
     ]
    },
    {
     "name": "stdout",
     "output_type": "stream",
     "text": [
      "Combination 2 by 2\n"
     ]
    },
    {
     "name": "stderr",
     "output_type": "stream",
     "text": [
      "15it [00:00, 85.69it/s]\n"
     ]
    },
    {
     "name": "stdout",
     "output_type": "stream",
     "text": [
      "Combination 3 by 3\n"
     ]
    },
    {
     "name": "stderr",
     "output_type": "stream",
     "text": [
      "20it [00:00, 106.08it/s]\n"
     ]
    },
    {
     "name": "stdout",
     "output_type": "stream",
     "text": [
      "Combination 4 by 4\n"
     ]
    },
    {
     "name": "stderr",
     "output_type": "stream",
     "text": [
      "15it [00:00, 102.32it/s]\n"
     ]
    },
    {
     "name": "stdout",
     "output_type": "stream",
     "text": [
      "Combination 5 by 5\n"
     ]
    },
    {
     "name": "stderr",
     "output_type": "stream",
     "text": [
      "6it [00:00, 100.27it/s]\n"
     ]
    },
    {
     "data": {
      "text/plain": [
       "{'Apple&Chips': 0.45454545454545453,\n",
       " 'Apple&Wine': 0.5,\n",
       " 'Apple&Bread': 0.5454545454545454,\n",
       " 'Apple&Butter': 0.5,\n",
       " 'Apple&Milk': 0.5,\n",
       " 'Chips&Wine': 0.4090909090909091,\n",
       " 'Chips&Bread': 0.4090909090909091,\n",
       " 'Chips&Butter': 0.4090909090909091,\n",
       " 'Chips&Milk': 0.45454545454545453,\n",
       " 'Wine&Bread': 0.5909090909090909,\n",
       " 'Wine&Butter': 0.5,\n",
       " 'Wine&Milk': 0.6363636363636364,\n",
       " 'Bread&Butter': 0.5909090909090909,\n",
       " 'Bread&Milk': 0.5909090909090909,\n",
       " 'Butter&Milk': 0.5909090909090909,\n",
       " 'Apple&Wine&Bread': 0.45454545454545453,\n",
       " 'Apple&Wine&Milk': 0.4090909090909091,\n",
       " 'Apple&Bread&Butter': 0.4090909090909091,\n",
       " 'Apple&Bread&Milk': 0.4090909090909091,\n",
       " 'Apple&Butter&Milk': 0.4090909090909091,\n",
       " 'Wine&Bread&Butter': 0.45454545454545453,\n",
       " 'Wine&Bread&Milk': 0.5,\n",
       " 'Wine&Butter&Milk': 0.45454545454545453,\n",
       " 'Bread&Butter&Milk': 0.5,\n",
       " 'Wine&Bread&Butter&Milk': 0.4090909090909091}"
      ]
     },
     "execution_count": 13,
     "metadata": {},
     "output_type": "execute_result"
    }
   ],
   "source": [
    "eclat_instance=ECLAT(data=df,verbose=True)\n",
    "indexes,supports = eclat_instance.fit(min_support=0.4,min_combination=2,max_combination=5,separator='&',verbose=True)\n",
    "supports"
   ]
  },
  {
   "attachments": {},
   "cell_type": "markdown",
   "metadata": {},
   "source": [
    "## Test 2\n",
    "\n",
    "min_support = 0.2, min_combination = 2, max_combination =4"
   ]
  },
  {
   "cell_type": "code",
   "execution_count": 14,
   "metadata": {},
   "outputs": [
    {
     "data": {
      "text/plain": [
       "{'Bread&Apple': 0.5454545454545454,\n",
       " 'Apple&Butter': 0.5,\n",
       " 'Apple&Chips': 0.45454545454545453,\n",
       " 'Milk&Apple': 0.5,\n",
       " 'Wine&Apple': 0.5,\n",
       " 'Bread&Butter': 0.5909090909090909,\n",
       " 'Bread&Chips': 0.4090909090909091,\n",
       " 'Milk&Bread': 0.5909090909090909,\n",
       " 'Bread&Wine': 0.5909090909090909,\n",
       " 'Butter&Chips': 0.4090909090909091,\n",
       " 'Milk&Butter': 0.5909090909090909,\n",
       " 'Wine&Butter': 0.5,\n",
       " 'Milk&Chips': 0.45454545454545453,\n",
       " 'Wine&Chips': 0.4090909090909091,\n",
       " 'Milk&Wine': 0.6363636363636364,\n",
       " 'Bread&Apple&Butter': 0.4090909090909091,\n",
       " 'Bread&Apple&Chips': 0.36363636363636365,\n",
       " 'Milk&Bread&Apple': 0.4090909090909091,\n",
       " 'Bread&Apple&Wine': 0.45454545454545453,\n",
       " 'Apple&Butter&Chips': 0.36363636363636365,\n",
       " 'Milk&Apple&Butter': 0.4090909090909091,\n",
       " 'Wine&Apple&Butter': 0.36363636363636365,\n",
       " 'Milk&Apple&Chips': 0.3181818181818182,\n",
       " 'Wine&Apple&Chips': 0.2727272727272727,\n",
       " 'Milk&Apple&Wine': 0.4090909090909091,\n",
       " 'Bread&Butter&Chips': 0.36363636363636365,\n",
       " 'Milk&Bread&Butter': 0.5,\n",
       " 'Bread&Butter&Wine': 0.45454545454545453,\n",
       " 'Milk&Bread&Chips': 0.3181818181818182,\n",
       " 'Bread&Wine&Chips': 0.3181818181818182,\n",
       " 'Milk&Bread&Wine': 0.5,\n",
       " 'Milk&Butter&Chips': 0.3181818181818182,\n",
       " 'Wine&Butter&Chips': 0.2727272727272727,\n",
       " 'Milk&Butter&Wine': 0.45454545454545453,\n",
       " 'Milk&Wine&Chips': 0.36363636363636365,\n",
       " 'Bread&Apple&Butter&Chips': 0.3181818181818182,\n",
       " 'Milk&Bread&Apple&Butter': 0.3181818181818182,\n",
       " 'Bread&Apple&Butter&Wine': 0.3181818181818182,\n",
       " 'Milk&Bread&Apple&Chips': 0.2727272727272727,\n",
       " 'Bread&Apple&Wine&Chips': 0.2727272727272727,\n",
       " 'Milk&Bread&Apple&Wine': 0.36363636363636365,\n",
       " 'Milk&Apple&Butter&Chips': 0.2727272727272727,\n",
       " 'Wine&Apple&Butter&Chips': 0.22727272727272727,\n",
       " 'Milk&Apple&Butter&Wine': 0.3181818181818182,\n",
       " 'Milk&Apple&Wine&Chips': 0.22727272727272727,\n",
       " 'Milk&Bread&Butter&Chips': 0.2727272727272727,\n",
       " 'Wine&Bread&Butter&Chips': 0.2727272727272727,\n",
       " 'Milk&Bread&Butter&Wine': 0.4090909090909091,\n",
       " 'Milk&Bread&Wine&Chips': 0.2727272727272727,\n",
       " 'Wine&Milk&Butter&Chips': 0.22727272727272727}"
      ]
     },
     "execution_count": 14,
     "metadata": {},
     "output_type": "execute_result"
    }
   ],
   "source": [
    "output = vertical_apriori(records,0.2, min_combination=2, max_combination=4)\n",
    "res_dict={}\n",
    "for res in  output:\n",
    "    res_dict['&'.join(res.items)]=res.support\n",
    "res_dict"
   ]
  },
  {
   "cell_type": "code",
   "execution_count": 15,
   "metadata": {},
   "outputs": [
    {
     "name": "stderr",
     "output_type": "stream",
     "text": [
      "100%|██████████| 6/6 [00:00<00:00, 200.53it/s]\n",
      "100%|██████████| 6/6 [00:00<00:00, 6021.97it/s]\n",
      "100%|██████████| 6/6 [00:00<00:00, 1002.66it/s]\n"
     ]
    },
    {
     "name": "stdout",
     "output_type": "stream",
     "text": [
      "Combination 2 by 2\n"
     ]
    },
    {
     "name": "stderr",
     "output_type": "stream",
     "text": [
      "15it [00:00, 89.52it/s]\n"
     ]
    },
    {
     "name": "stdout",
     "output_type": "stream",
     "text": [
      "Combination 3 by 3\n"
     ]
    },
    {
     "name": "stderr",
     "output_type": "stream",
     "text": [
      "20it [00:00, 71.86it/s]\n"
     ]
    },
    {
     "name": "stdout",
     "output_type": "stream",
     "text": [
      "Combination 4 by 4\n"
     ]
    },
    {
     "name": "stderr",
     "output_type": "stream",
     "text": [
      "15it [00:00, 62.79it/s]\n"
     ]
    },
    {
     "data": {
      "text/plain": [
       "{'Apple&Chips': 0.45454545454545453,\n",
       " 'Apple&Wine': 0.5,\n",
       " 'Apple&Bread': 0.5454545454545454,\n",
       " 'Apple&Butter': 0.5,\n",
       " 'Apple&Milk': 0.5,\n",
       " 'Chips&Wine': 0.4090909090909091,\n",
       " 'Chips&Bread': 0.4090909090909091,\n",
       " 'Chips&Butter': 0.4090909090909091,\n",
       " 'Chips&Milk': 0.45454545454545453,\n",
       " 'Wine&Bread': 0.5909090909090909,\n",
       " 'Wine&Butter': 0.5,\n",
       " 'Wine&Milk': 0.6363636363636364,\n",
       " 'Bread&Butter': 0.5909090909090909,\n",
       " 'Bread&Milk': 0.5909090909090909,\n",
       " 'Butter&Milk': 0.5909090909090909,\n",
       " 'Apple&Chips&Wine': 0.2727272727272727,\n",
       " 'Apple&Chips&Bread': 0.36363636363636365,\n",
       " 'Apple&Chips&Butter': 0.36363636363636365,\n",
       " 'Apple&Chips&Milk': 0.3181818181818182,\n",
       " 'Apple&Wine&Bread': 0.45454545454545453,\n",
       " 'Apple&Wine&Butter': 0.36363636363636365,\n",
       " 'Apple&Wine&Milk': 0.4090909090909091,\n",
       " 'Apple&Bread&Butter': 0.4090909090909091,\n",
       " 'Apple&Bread&Milk': 0.4090909090909091,\n",
       " 'Apple&Butter&Milk': 0.4090909090909091,\n",
       " 'Chips&Wine&Bread': 0.3181818181818182,\n",
       " 'Chips&Wine&Butter': 0.2727272727272727,\n",
       " 'Chips&Wine&Milk': 0.36363636363636365,\n",
       " 'Chips&Bread&Butter': 0.36363636363636365,\n",
       " 'Chips&Bread&Milk': 0.3181818181818182,\n",
       " 'Chips&Butter&Milk': 0.3181818181818182,\n",
       " 'Wine&Bread&Butter': 0.45454545454545453,\n",
       " 'Wine&Bread&Milk': 0.5,\n",
       " 'Wine&Butter&Milk': 0.45454545454545453,\n",
       " 'Bread&Butter&Milk': 0.5,\n",
       " 'Apple&Chips&Wine&Bread': 0.2727272727272727,\n",
       " 'Apple&Chips&Wine&Butter': 0.22727272727272727,\n",
       " 'Apple&Chips&Wine&Milk': 0.22727272727272727,\n",
       " 'Apple&Chips&Bread&Butter': 0.3181818181818182,\n",
       " 'Apple&Chips&Bread&Milk': 0.2727272727272727,\n",
       " 'Apple&Chips&Butter&Milk': 0.2727272727272727,\n",
       " 'Apple&Wine&Bread&Butter': 0.3181818181818182,\n",
       " 'Apple&Wine&Bread&Milk': 0.36363636363636365,\n",
       " 'Apple&Wine&Butter&Milk': 0.3181818181818182,\n",
       " 'Apple&Bread&Butter&Milk': 0.3181818181818182,\n",
       " 'Chips&Wine&Bread&Butter': 0.2727272727272727,\n",
       " 'Chips&Wine&Bread&Milk': 0.2727272727272727,\n",
       " 'Chips&Wine&Butter&Milk': 0.22727272727272727,\n",
       " 'Chips&Bread&Butter&Milk': 0.2727272727272727,\n",
       " 'Wine&Bread&Butter&Milk': 0.4090909090909091}"
      ]
     },
     "execution_count": 15,
     "metadata": {},
     "output_type": "execute_result"
    }
   ],
   "source": [
    "eclat_instance=ECLAT(data=df,verbose=True)\n",
    "indexes,supports = eclat_instance.fit(min_support=0.2,min_combination=2,max_combination=4,separator='&',verbose=True)\n",
    "supports"
   ]
  },
  {
   "attachments": {},
   "cell_type": "markdown",
   "metadata": {},
   "source": [
    "## Test 3\n",
    "\n",
    "min_support = 0.1, min_combination = 3, max_combination = 6"
   ]
  },
  {
   "cell_type": "code",
   "execution_count": 16,
   "metadata": {},
   "outputs": [
    {
     "data": {
      "text/plain": [
       "{'Bread&Apple&Butter': 0.4090909090909091,\n",
       " 'Bread&Apple&Chips': 0.36363636363636365,\n",
       " 'Milk&Bread&Apple': 0.4090909090909091,\n",
       " 'Bread&Apple&Wine': 0.45454545454545453,\n",
       " 'Apple&Butter&Chips': 0.36363636363636365,\n",
       " 'Milk&Apple&Butter': 0.4090909090909091,\n",
       " 'Wine&Apple&Butter': 0.36363636363636365,\n",
       " 'Milk&Apple&Chips': 0.3181818181818182,\n",
       " 'Wine&Apple&Chips': 0.2727272727272727,\n",
       " 'Milk&Apple&Wine': 0.4090909090909091,\n",
       " 'Bread&Butter&Chips': 0.36363636363636365,\n",
       " 'Milk&Bread&Butter': 0.5,\n",
       " 'Bread&Butter&Wine': 0.45454545454545453,\n",
       " 'Milk&Bread&Chips': 0.3181818181818182,\n",
       " 'Bread&Wine&Chips': 0.3181818181818182,\n",
       " 'Milk&Bread&Wine': 0.5,\n",
       " 'Milk&Butter&Chips': 0.3181818181818182,\n",
       " 'Wine&Butter&Chips': 0.2727272727272727,\n",
       " 'Milk&Butter&Wine': 0.45454545454545453,\n",
       " 'Milk&Wine&Chips': 0.36363636363636365,\n",
       " 'Bread&Apple&Butter&Chips': 0.3181818181818182,\n",
       " 'Milk&Bread&Apple&Butter': 0.3181818181818182,\n",
       " 'Bread&Apple&Butter&Wine': 0.3181818181818182,\n",
       " 'Milk&Bread&Apple&Chips': 0.2727272727272727,\n",
       " 'Bread&Apple&Wine&Chips': 0.2727272727272727,\n",
       " 'Milk&Bread&Apple&Wine': 0.36363636363636365,\n",
       " 'Milk&Apple&Butter&Chips': 0.2727272727272727,\n",
       " 'Wine&Apple&Butter&Chips': 0.22727272727272727,\n",
       " 'Milk&Apple&Butter&Wine': 0.3181818181818182,\n",
       " 'Milk&Apple&Wine&Chips': 0.22727272727272727,\n",
       " 'Milk&Bread&Butter&Chips': 0.2727272727272727,\n",
       " 'Wine&Bread&Butter&Chips': 0.2727272727272727,\n",
       " 'Milk&Bread&Butter&Wine': 0.4090909090909091,\n",
       " 'Milk&Bread&Wine&Chips': 0.2727272727272727,\n",
       " 'Wine&Milk&Butter&Chips': 0.22727272727272727,\n",
       " 'Apple&Chips&Bread&Butter&Milk': 0.22727272727272727,\n",
       " 'Apple&Chips&Wine&Bread&Butter': 0.22727272727272727,\n",
       " 'Apple&Bread&Wine&Butter&Milk': 0.2727272727272727,\n",
       " 'Apple&Chips&Bread&Wine&Milk': 0.22727272727272727,\n",
       " 'Apple&Chips&Wine&Butter&Milk': 0.18181818181818182,\n",
       " 'Chips&Bread&Wine&Butter&Milk': 0.22727272727272727,\n",
       " 'Apple&Chips&Bread&Wine&Butter&Milk': 0.18181818181818182}"
      ]
     },
     "execution_count": 16,
     "metadata": {},
     "output_type": "execute_result"
    }
   ],
   "source": [
    "output = vertical_apriori(records,0.1, min_combination=3)\n",
    "res_dict={}\n",
    "for res in  output:\n",
    "    res_dict['&'.join(res.items)]=res.support\n",
    "res_dict"
   ]
  },
  {
   "cell_type": "code",
   "execution_count": 17,
   "metadata": {},
   "outputs": [
    {
     "name": "stderr",
     "output_type": "stream",
     "text": [
      "100%|██████████| 6/6 [00:00<00:00, 200.53it/s]\n",
      "100%|██████████| 6/6 [00:00<?, ?it/s]\n",
      "100%|██████████| 6/6 [00:00<00:00, 1195.07it/s]\n"
     ]
    },
    {
     "name": "stdout",
     "output_type": "stream",
     "text": [
      "Combination 3 by 3\n"
     ]
    },
    {
     "name": "stderr",
     "output_type": "stream",
     "text": [
      "20it [00:00, 81.84it/s]\n"
     ]
    },
    {
     "name": "stdout",
     "output_type": "stream",
     "text": [
      "Combination 4 by 4\n"
     ]
    },
    {
     "name": "stderr",
     "output_type": "stream",
     "text": [
      "15it [00:00, 69.14it/s]\n"
     ]
    },
    {
     "name": "stdout",
     "output_type": "stream",
     "text": [
      "Combination 5 by 5\n"
     ]
    },
    {
     "name": "stderr",
     "output_type": "stream",
     "text": [
      "6it [00:00, 52.43it/s]\n"
     ]
    },
    {
     "name": "stdout",
     "output_type": "stream",
     "text": [
      "Combination 6 by 6\n"
     ]
    },
    {
     "name": "stderr",
     "output_type": "stream",
     "text": [
      "1it [00:00, 43.59it/s]\n"
     ]
    },
    {
     "data": {
      "text/plain": [
       "{'Apple&Chips&Wine': 0.2727272727272727,\n",
       " 'Apple&Chips&Bread': 0.36363636363636365,\n",
       " 'Apple&Chips&Butter': 0.36363636363636365,\n",
       " 'Apple&Chips&Milk': 0.3181818181818182,\n",
       " 'Apple&Wine&Bread': 0.45454545454545453,\n",
       " 'Apple&Wine&Butter': 0.36363636363636365,\n",
       " 'Apple&Wine&Milk': 0.4090909090909091,\n",
       " 'Apple&Bread&Butter': 0.4090909090909091,\n",
       " 'Apple&Bread&Milk': 0.4090909090909091,\n",
       " 'Apple&Butter&Milk': 0.4090909090909091,\n",
       " 'Chips&Wine&Bread': 0.3181818181818182,\n",
       " 'Chips&Wine&Butter': 0.2727272727272727,\n",
       " 'Chips&Wine&Milk': 0.36363636363636365,\n",
       " 'Chips&Bread&Butter': 0.36363636363636365,\n",
       " 'Chips&Bread&Milk': 0.3181818181818182,\n",
       " 'Chips&Butter&Milk': 0.3181818181818182,\n",
       " 'Wine&Bread&Butter': 0.45454545454545453,\n",
       " 'Wine&Bread&Milk': 0.5,\n",
       " 'Wine&Butter&Milk': 0.45454545454545453,\n",
       " 'Bread&Butter&Milk': 0.5,\n",
       " 'Apple&Chips&Wine&Bread': 0.2727272727272727,\n",
       " 'Apple&Chips&Wine&Butter': 0.22727272727272727,\n",
       " 'Apple&Chips&Wine&Milk': 0.22727272727272727,\n",
       " 'Apple&Chips&Bread&Butter': 0.3181818181818182,\n",
       " 'Apple&Chips&Bread&Milk': 0.2727272727272727,\n",
       " 'Apple&Chips&Butter&Milk': 0.2727272727272727,\n",
       " 'Apple&Wine&Bread&Butter': 0.3181818181818182,\n",
       " 'Apple&Wine&Bread&Milk': 0.36363636363636365,\n",
       " 'Apple&Wine&Butter&Milk': 0.3181818181818182,\n",
       " 'Apple&Bread&Butter&Milk': 0.3181818181818182,\n",
       " 'Chips&Wine&Bread&Butter': 0.2727272727272727,\n",
       " 'Chips&Wine&Bread&Milk': 0.2727272727272727,\n",
       " 'Chips&Wine&Butter&Milk': 0.22727272727272727,\n",
       " 'Chips&Bread&Butter&Milk': 0.2727272727272727,\n",
       " 'Wine&Bread&Butter&Milk': 0.4090909090909091,\n",
       " 'Apple&Chips&Wine&Bread&Butter': 0.22727272727272727,\n",
       " 'Apple&Chips&Wine&Bread&Milk': 0.22727272727272727,\n",
       " 'Apple&Chips&Wine&Butter&Milk': 0.18181818181818182,\n",
       " 'Apple&Chips&Bread&Butter&Milk': 0.22727272727272727,\n",
       " 'Apple&Wine&Bread&Butter&Milk': 0.2727272727272727,\n",
       " 'Chips&Wine&Bread&Butter&Milk': 0.22727272727272727,\n",
       " 'Apple&Chips&Wine&Bread&Butter&Milk': 0.18181818181818182}"
      ]
     },
     "execution_count": 17,
     "metadata": {},
     "output_type": "execute_result"
    }
   ],
   "source": [
    "eclat_instance=ECLAT(data=df,verbose=True)\n",
    "indexes,supports = eclat_instance.fit(min_support=0.1,min_combination=3,max_combination=6,separator='&',verbose=True)\n",
    "supports"
   ]
  }
 ],
 "metadata": {
  "kernelspec": {
   "display_name": "env",
   "language": "python",
   "name": "python3"
  },
  "language_info": {
   "codemirror_mode": {
    "name": "ipython",
    "version": 3
   },
   "file_extension": ".py",
   "mimetype": "text/x-python",
   "name": "python",
   "nbconvert_exporter": "python",
   "pygments_lexer": "ipython3",
   "version": "3.10.6"
  },
  "orig_nbformat": 4
 },
 "nbformat": 4,
 "nbformat_minor": 2
}
